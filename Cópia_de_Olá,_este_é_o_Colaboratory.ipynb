{
  "cells": [
    {
      "cell_type": "code",
      "source": [
        "print('Hello World')\n",
        "'''nome = input('digite o nome:')'''\n",
        "\"\"\"print(nome)\"\"\"\n",
        "#type(nome)#\n",
        "\n",
        "\"\"\"A função eval() recebe uma string, mas trata como um valor numérico\"\"\"\n",
        "peso = eval(input('digite seu peso: '))\n",
        "alt = eval(input('digite sua altura: '))\n",
        "\n",
        "imc = peso/(alt**2)\n",
        "\n",
        "print('IMC:',imc)"
      ],
      "metadata": {
        "id": "VYRQKDXzRDG0",
        "outputId": "b5c38571-13e1-4923-c157-020ffa81a928",
        "colab": {
          "base_uri": "https://localhost:8080/"
        }
      },
      "execution_count": null,
      "outputs": [
        {
          "output_type": "stream",
          "name": "stdout",
          "text": [
            "Hello World\n",
            "digite seu peso: 10\n",
            "digite sua altura: 5\n",
            "IMC: 0.4\n"
          ]
        }
      ]
    },
    {
      "cell_type": "code",
      "source": [
        "################\n",
        "# condição par ou impar #\n",
        "\n",
        "num = eval(input('digite um numero: '))\n",
        "if(num%2==0):\n",
        "  msg=('é numero par')\n",
        "else: msg=('não é numero par')\n",
        "\n",
        "\n",
        "print(num,msg)\n"
      ],
      "metadata": {
        "colab": {
          "base_uri": "https://localhost:8080/"
        },
        "id": "OEAlN3FscNMu",
        "outputId": "0dc710d7-3300-414e-aa57-ca8da11e25b6"
      },
      "execution_count": 6,
      "outputs": [
        {
          "output_type": "stream",
          "name": "stdout",
          "text": [
            "digite um numero: 10\n",
            "10 é numero par\n"
          ]
        }
      ]
    }
  ],
  "metadata": {
    "colab": {
      "provenance": []
    },
    "kernelspec": {
      "display_name": "Python 3",
      "name": "python3"
    }
  },
  "nbformat": 4,
  "nbformat_minor": 0
}