{
  "cells": [
    {
      "cell_type": "code",
      "source": [
        "#tratamento de exexceção\n",
        "\n",
        "while True:\n",
        "  try:\n",
        "    x=int(input(\"digite um numero: \"))\n",
        "    break\n",
        "  except ValueError:\n",
        "      print(\"Não é um numero\")\n"
      ],
      "metadata": {
        "colab": {
          "base_uri": "https://localhost:8080/"
        },
        "id": "u0k3wSVLEJSN",
        "outputId": "ec87cd2d-1695-47d8-e93e-899ec27aea8f"
      },
      "execution_count": 5,
      "outputs": [
        {
          "name": "stdout",
          "output_type": "stream",
          "text": [
            "digite um numero: ç\n",
            "Não é um numero\n",
            "digite um numero: 2\n"
          ]
        }
      ]
    },
    {
      "cell_type": "code",
      "source": [
        "#importa biblioteca\n",
        "import matplotlib.pyplot as plt\n",
        "import numpy as np\n",
        "\n",
        "x= np.array([\"a\",\"b\",\"c\"])\n",
        "y= np.array([3,8,1])\n",
        "plt.bar(x,y)\n",
        "plt.show()"
      ],
      "metadata": {
        "colab": {
          "base_uri": "https://localhost:8080/",
          "height": 430
        },
        "id": "UUHqgBBqPEBY",
        "outputId": "bc3beef4-2cfb-4d77-d24c-084d90fb49bf"
      },
      "execution_count": null,
      "outputs": [
        {
          "output_type": "display_data",
          "data": {
            "text/plain": [
              "<Figure size 640x480 with 1 Axes>"
            ],
            "image/png": "[encoded data removed]"
          },
          "metadata": {}
        }
      ]
    },
    {
      "cell_type": "code",
      "source": [
        "def findMinimo(lista):\n",
        "  minimo = lista[0]\n",
        "  for elem in lista:\n",
        "    if(elem < minimo):\n",
        "      minimo = elem\n",
        "\n",
        "      return minimo\n",
        "\n",
        "listaTeste = [2,10,3,1,4,5]\n",
        "menor = findMinimo(listaTeste)\n",
        "print(\"O menor elemento é:[{}]\".format(menor))"
      ],
      "metadata": {
        "colab": {
          "base_uri": "https://localhost:8080/"
        },
        "id": "gqlYdnmk1COx",
        "outputId": "1bb73e85-f747-4890-db6b-6839ed7ddacc"
      },
      "execution_count": null,
      "outputs": [
        {
          "output_type": "stream",
          "name": "stdout",
          "text": [
            "O menor elemento é:[1]\n"
          ]
        }
      ]
    },
    {
      "cell_type": "code",
      "source": [
        "print('Hello World')\n",
        "'''nome = input('digite o nome:')'''\n",
        "\"\"\"print(nome)\"\"\"\n",
        "#type(nome)#\n",
        "\n",
        "\"\"\"A função eval() recebe uma string, mas trata como um valor numérico\"\"\"\n",
        "peso = eval(input('digite seu peso: '))\n",
        "alt = eval(input('digite sua altura: '))\n",
        "\n",
        "imc = peso/(alt**2)\n",
        "\n",
        "print('IMC:',imc)"
      ],
      "metadata": {
        "id": "VYRQKDXzRDG0",
        "outputId": "b5c38571-13e1-4923-c157-020ffa81a928",
        "colab": {
          "base_uri": "https://localhost:8080/"
        }
      },
      "execution_count": null,
      "outputs": [
        {
          "output_type": "stream",
          "name": "stdout",
          "text": [
            "Hello World\n",
            "digite seu peso: 10\n",
            "digite sua altura: 5\n",
            "IMC: 0.4\n"
          ]
        }
      ]
    },
    {
      "cell_type": "code",
      "source": [
        "################\n",
        "# condição par ou impar #\n",
        "\n",
        "num = eval(input('digite um numero: '))\n",
        "if(num%2==0):\n",
        "  msg=('é numero par')\n",
        "else: msg=('não é numero par')\n",
        "\n",
        "\n",
        "print(num,msg)\n"
      ],
      "metadata": {
        "colab": {
          "base_uri": "https://localhost:8080/"
        },
        "id": "OEAlN3FscNMu",
        "outputId": "0dc710d7-3300-414e-aa57-ca8da11e25b6"
      },
      "execution_count": null,
      "outputs": [
        {
          "output_type": "stream",
          "name": "stdout",
          "text": [
            "digite um numero: 10\n",
            "10 é numero par\n"
          ]
        }
      ]
    },
    {
      "cell_type": "code",
      "source": [
        "#SOMA DE UMA LISTA\n",
        "\n",
        "lista = [10,2,5,7,6,3]\n",
        "\n",
        "soma=0\n",
        "for num in lista:\n",
        "  if(num%2==0):\n",
        "    soma=soma+num\n",
        "\n",
        "print(f'O somatorio dos numero pares é : {soma}')"
      ],
      "metadata": {
        "colab": {
          "base_uri": "https://localhost:8080/"
        },
        "id": "qf3Jd61ihCR_",
        "outputId": "298fde33-8a04-474d-b433-fa343e4e44af"
      },
      "execution_count": null,
      "outputs": [
        {
          "output_type": "stream",
          "name": "stdout",
          "text": [
            "O somatorio dos numero pares é : 18\n"
          ]
        }
      ]
    },
    {
      "cell_type": "code",
      "source": [
        "while True:\n",
        "    print('Você está no primeiro laço.')\n",
        "    opcao1 = input('Deseja sair dele? Digite SIM para isso. \\n')\n",
        "    if opcao1 == 'SIM':\n",
        "        break  # este break é do primeiro laço\n",
        "    else:\n",
        "        while True:\n",
        "            print('Você está no segundo laço.')\n",
        "            opcao2 = input('Deseja sair dele? Digite SIM para isso. \\n')\n",
        "            if opcao2 == 'SIM':\n",
        "                break  # este break é do segundo laço\n",
        "        print('Você saiu do segundo laço.')\n",
        "print('Você saiu do primeiro laço')"
      ],
      "metadata": {
        "id": "DTW_xY-pkkn4"
      },
      "execution_count": null,
      "outputs": []
    }
  ],
  "metadata": {
    "colab": {
      "provenance": []
    },
    "kernelspec": {
      "display_name": "Python 3",
      "name": "python3"
    }
  },
  "nbformat": 4,
  "nbformat_minor": 0
}