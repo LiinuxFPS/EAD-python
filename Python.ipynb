{
  "cells": [
    {
      "cell_type": "code",
      "source": [
        "from time import sleep\n",
        "from threading import Thread\n",
        "\n",
        "#calcula o cubo\n",
        "def cubo(tempo_espera, resultado):\n",
        "  print(f'\\nO cubo de {varCubo}: {resultado}')\n",
        "  sleep(tempo_espera)\n",
        "\n",
        "varCubo=int(input('Digite um numero: '))\n",
        "x=varCubo**3\n",
        "\n",
        "#calcula o quadrado\n",
        "def quadrado(tempo_espera, resultado):\n",
        "  print(f'\\nO o Quadrado de {varQuadrado}: {resultado}')\n",
        "  sleep(tempo_espera)\n",
        "\n",
        "varQuadrado=int(input('Digite um numero: '))\n",
        "y=varQuadrado**2\n",
        "\n",
        "t1 = Thread(target=cubo, args=(3,x))\n",
        "t2 = Thread(target=quadrado, args=(2,y))\n",
        "t1.start()\n",
        "t2.start()\n",
        "t1.join()\n",
        "t2.join()\n",
        "\n",
        "print('\\nA execução foi concluida')"
      ],
      "metadata": {
        "colab": {
          "base_uri": "https://localhost:8080/"
        },
        "id": "geu9nxYJKjq5",
        "outputId": "7ccbea2a-5a8b-46b5-e02f-79e419524c11"
      },
      "execution_count": null,
      "outputs": [
        {
          "output_type": "stream",
          "name": "stdout",
          "text": [
            "Digite um numero: 5\n",
            "Digite um numero: 10\n",
            "\n",
            "O cubo de 5: 125\n",
            "\n",
            "O o Quadrado de 10: 100\n",
            "\n",
            "A execução foi concluida\n"
          ]
        }
      ]
    },
    {
      "cell_type": "code",
      "source": [
        "from time import sleep\n",
        "from threading import Thread\n",
        "\n",
        "def tarefa(tempo_espera, nome_tarefa):\n",
        "  print(f'\\nIniciando a tarefa {nome_tarefa}')\n",
        "  sleep(tempo_espera)\n",
        "  print('\\nConclusão da tarefa {}'.format(nome_tarefa))\n",
        "\n",
        "t1 = Thread(target=tarefa, args=(3,'A'))\n",
        "t2 = Thread(target=tarefa, args=(2,'B'))\n",
        "t1.start()\n",
        "t2.start()\n",
        "t1.join()\n",
        "t2.join()\n",
        "\n",
        "print('\\nA execução foi concluida')"
      ],
      "metadata": {
        "colab": {
          "base_uri": "https://localhost:8080/"
        },
        "id": "YfBAaOpl9T2-",
        "outputId": "7a8ce6b5-2b4a-4672-979f-a711fe493c6d"
      },
      "execution_count": null,
      "outputs": [
        {
          "output_type": "stream",
          "name": "stdout",
          "text": [
            "\n",
            "Iniciando a tarefa A\n",
            "\n",
            "Iniciando a tarefa B\n",
            "\n",
            "Conclusão da tarefa B\n",
            "\n",
            "Conclusão da tarefa A\n",
            "\n",
            "A execução foi concluida\n"
          ]
        }
      ]
    },
    {
      "cell_type": "code",
      "source": [
        "#PROGRAMAÇÃO CONCORRENTE\n",
        "#Thread and Process\n",
        "\n",
        "from time import sleep\n",
        "from threading import Thread\n",
        "\n",
        "def tarefa(tempo_espera, mensagem):\n",
        "  print('\\nIniciando a tarefa'.format(mensagem))\n",
        "  sleep(tempo_espera)\n",
        "  print('Conclusão da tarefa'.format(mensagem))\n",
        "\n",
        "'''vthread = nome da variavel'''\n",
        "vthread = Thread(target=tarefa, args=(2,'Thread em execução'))\n",
        "vthread.start()\n",
        "\n",
        "print('\\nAguardando pela execução...')\n",
        "vthread.join()\n",
        "print('A execução foi concluida')"
      ],
      "metadata": {
        "colab": {
          "base_uri": "https://localhost:8080/"
        },
        "id": "5TKp7oHa6F3e",
        "outputId": "3ef6a00e-0ebd-4e0d-e9b5-64ad6de3aca3"
      },
      "execution_count": null,
      "outputs": [
        {
          "output_type": "stream",
          "name": "stdout",
          "text": [
            "\n",
            "Iniciando a tarefa\n",
            "Aguardando pela execução...\n",
            "\n",
            "Conclusão da tarefa\n",
            "A execução foi concluida\n"
          ]
        }
      ]
    },
    {
      "cell_type": "code",
      "source": [
        "from functools import reduce\n",
        "\n",
        "recebe_soma=lambda x,y: x+y\n",
        "\n",
        "numero = [1,2,3,4,5,6,7,8,9,10]\n",
        "\n",
        "total=reduce(recebe_soma, numero)\n",
        "\n",
        "print(total)"
      ],
      "metadata": {
        "colab": {
          "base_uri": "https://localhost:8080/"
        },
        "id": "XgY5BufJqVjS",
        "outputId": "7e2da6f2-2679-4f5f-ce10-126a744ab3fa"
      },
      "execution_count": null,
      "outputs": [
        {
          "output_type": "stream",
          "name": "stdout",
          "text": [
            "55\n"
          ]
        }
      ]
    },
    {
      "cell_type": "code",
      "source": [
        "'''\n",
        "lista=[0,1,1,2,3,5,8,13,21,34]\n",
        "\n",
        "ehpar=lambda x: x%2==0\n",
        "\n",
        "validar=list(filter(ehpar,lista))\n",
        "\n",
        "print('os pares sao: {}'.format(validar))\n",
        "'''\n",
        "\n",
        "lista_num=[9.56783,7.57568,3.00914,6.2321]\n",
        "\n",
        "lista_precisao=[2,2,3,3]\n",
        "\n",
        "arredonda=lambda x,y: round(x,y)\n",
        "\n",
        "resultado=list(map(arredonda,lista_num,lista_precisao))\n",
        "\n",
        "print(resultado)"
      ],
      "metadata": {
        "colab": {
          "base_uri": "https://localhost:8080/"
        },
        "id": "rL8b9gQfm5HN",
        "outputId": "ece02c88-b97f-4237-a44d-160482faf5a1"
      },
      "execution_count": null,
      "outputs": [
        {
          "output_type": "stream",
          "name": "stdout",
          "text": [
            "[9.57, 7.58, 3.009, 6.232]\n"
          ]
        }
      ]
    },
    {
      "cell_type": "code",
      "source": [
        "veiculos = ['aviao','carro','navio','onibus']\n",
        "\n",
        "f_maiuscula = lambda x:str.upper(x)\n",
        "\n",
        "nomes_maiusculos=list(map(f_maiuscula, veiculos))\n",
        "\n",
        "print('Nomes maiusculos = {}'.format(nomes_maiusculos))"
      ],
      "metadata": {
        "colab": {
          "base_uri": "https://localhost:8080/"
        },
        "id": "mRDz4Ww5XlOs",
        "outputId": "8208d287-0fe8-4bbc-a55f-f04d87ca3b94"
      },
      "execution_count": null,
      "outputs": [
        {
          "output_type": "stream",
          "name": "stdout",
          "text": [
            "Nomes maiusculos = ['AVIAO', 'CARRO', 'NAVIO', 'ONIBUS']\n"
          ]
        }
      ]
    },
    {
      "cell_type": "code",
      "source": [
        "class Veiculo:\n",
        "  def __init__(self,nome,vl_max,km_litro):\n",
        "    self.nome=nome\n",
        "    self.vl_max=vl_max\n",
        "    self.km_litro=km_litro\n",
        "\n",
        "  def toStr(self):\n",
        "    print('nome: {} \\nVelocidade {} \\nKm por Litro {}'\n",
        "    .format(self.nome,self.vl_max,self.km_litro))\n",
        "\n",
        "  def qtd_bancos(self,bancos):\n",
        "    print('Bancos: {}'.format(bancos))\n",
        "\n",
        "class Bus(Veiculo):\n",
        "  # herda todos atrib. da classe pai\n",
        "  #pass\n",
        "  def qtd_bancos(self,bancos=70):\n",
        "     return super().qtd_bancos(bancos)\n",
        "\n",
        "modelo_car=Veiculo('Fusca',180,10)\n",
        "modelo_car.toStr()\n",
        "\n",
        "print('=======')\n",
        "\n",
        "bus_escolar=Bus('Gardenia',120,8)\n",
        "bus_escolar.toStr()\n",
        "bus_escolar.qtd_bancos()\n"
      ],
      "metadata": {
        "colab": {
          "base_uri": "https://localhost:8080/"
        },
        "id": "AP_tW9nFXj6W",
        "outputId": "a2306fff-6f0a-4635-9dc0-6826abaac8fd"
      },
      "execution_count": null,
      "outputs": [
        {
          "output_type": "stream",
          "name": "stdout",
          "text": [
            "nome: Fusca \n",
            "Velocidade 180 \n",
            "Km por Litro 10\n",
            "=======\n",
            "nome: Gardenia \n",
            "Velocidade 120 \n",
            "Km por Litro 8\n",
            "Bancos: 70\n"
          ]
        }
      ]
    },
    {
      "cell_type": "code",
      "source": [
        "#tratamento de exexceção\n",
        "\n",
        "while True:\n",
        "  try:\n",
        "    x=int(input(\"digite um numero: \"))\n",
        "    break\n",
        "  except ValueError:\n",
        "      print(\"Não é um numero\")\n"
      ],
      "metadata": {
        "colab": {
          "base_uri": "https://localhost:8080/"
        },
        "id": "u0k3wSVLEJSN",
        "outputId": "ec87cd2d-1695-47d8-e93e-899ec27aea8f"
      },
      "execution_count": null,
      "outputs": [
        {
          "name": "stdout",
          "output_type": "stream",
          "text": [
            "digite um numero: ç\n",
            "Não é um numero\n",
            "digite um numero: 2\n"
          ]
        }
      ]
    },
    {
      "cell_type": "code",
      "source": [
        "#importa biblioteca\n",
        "import matplotlib.pyplot as plt\n",
        "import numpy as np\n",
        "\n",
        "x= np.array([\"a\",\"b\",\"c\"])\n",
        "y= np.array([3,8,1])\n",
        "plt.bar(x,y)\n",
        "plt.show()"
      ],
      "metadata": {
        "colab": {
          "base_uri": "https://localhost:8080/",
          "height": 430
        },
        "id": "UUHqgBBqPEBY",
        "outputId": "bc3beef4-2cfb-4d77-d24c-084d90fb49bf"
      },
      "execution_count": null,
      "outputs": [
        {
          "output_type": "display_data",
          "data": {
            "text/plain": [
              "<Figure size 640x480 with 1 Axes>"
            ],
            "image/png": "[encoded data removed]"
          },
          "metadata": {}
        }
      ]
    },
    {
      "cell_type": "code",
      "source": [
        "def findMinimo(lista):\n",
        "  minimo = lista[0]\n",
        "  for elem in lista:\n",
        "    if(elem < minimo):\n",
        "      minimo = elem\n",
        "\n",
        "      return minimo\n",
        "\n",
        "listaTeste = [2,10,3,1,4,5]\n",
        "menor = findMinimo(listaTeste)\n",
        "print(\"O menor elemento é:[{}]\".format(menor))"
      ],
      "metadata": {
        "colab": {
          "base_uri": "https://localhost:8080/"
        },
        "id": "gqlYdnmk1COx",
        "outputId": "1bb73e85-f747-4890-db6b-6839ed7ddacc"
      },
      "execution_count": null,
      "outputs": [
        {
          "output_type": "stream",
          "name": "stdout",
          "text": [
            "O menor elemento é:[1]\n"
          ]
        }
      ]
    },
    {
      "cell_type": "code",
      "source": [
        "print('Hello World')\n",
        "'''nome = input('digite o nome:')'''\n",
        "\"\"\"print(nome)\"\"\"\n",
        "#type(nome)#\n",
        "\n",
        "\"\"\"A função eval() recebe uma string, mas trata como um valor numérico\"\"\"\n",
        "peso = eval(input('digite seu peso: '))\n",
        "alt = eval(input('digite sua altura: '))\n",
        "\n",
        "imc = peso/(alt**2)\n",
        "\n",
        "print('IMC:',imc)"
      ],
      "metadata": {
        "id": "VYRQKDXzRDG0",
        "outputId": "b5c38571-13e1-4923-c157-020ffa81a928",
        "colab": {
          "base_uri": "https://localhost:8080/"
        }
      },
      "execution_count": null,
      "outputs": [
        {
          "output_type": "stream",
          "name": "stdout",
          "text": [
            "Hello World\n",
            "digite seu peso: 10\n",
            "digite sua altura: 5\n",
            "IMC: 0.4\n"
          ]
        }
      ]
    },
    {
      "cell_type": "code",
      "source": [
        "################\n",
        "# condição par ou impar #\n",
        "\n",
        "num = eval(input('digite um numero: '))\n",
        "if(num%2==0):\n",
        "  msg=('é numero par')\n",
        "else: msg=('não é numero par')\n",
        "\n",
        "\n",
        "print(num,msg)\n"
      ],
      "metadata": {
        "colab": {
          "base_uri": "https://localhost:8080/"
        },
        "id": "OEAlN3FscNMu",
        "outputId": "0dc710d7-3300-414e-aa57-ca8da11e25b6"
      },
      "execution_count": null,
      "outputs": [
        {
          "output_type": "stream",
          "name": "stdout",
          "text": [
            "digite um numero: 10\n",
            "10 é numero par\n"
          ]
        }
      ]
    },
    {
      "cell_type": "code",
      "source": [
        "#SOMA DE UMA LISTA\n",
        "\n",
        "lista = [10,2,5,7,6,3]\n",
        "\n",
        "soma=0\n",
        "for num in lista:\n",
        "  if(num%2==0):\n",
        "    soma=soma+num\n",
        "\n",
        "print(f'O somatorio dos numero pares é : {soma}')"
      ],
      "metadata": {
        "colab": {
          "base_uri": "https://localhost:8080/"
        },
        "id": "qf3Jd61ihCR_",
        "outputId": "298fde33-8a04-474d-b433-fa343e4e44af"
      },
      "execution_count": null,
      "outputs": [
        {
          "output_type": "stream",
          "name": "stdout",
          "text": [
            "O somatorio dos numero pares é : 18\n"
          ]
        }
      ]
    },
    {
      "cell_type": "code",
      "source": [
        "while True:\n",
        "    print('Você está no primeiro laço.')\n",
        "    opcao1 = input('Deseja sair dele? Digite SIM para isso. \\n')\n",
        "    if opcao1 == 'SIM':\n",
        "        break  # este break é do primeiro laço\n",
        "    else:\n",
        "        while True:\n",
        "            print('Você está no segundo laço.')\n",
        "            opcao2 = input('Deseja sair dele? Digite SIM para isso. \\n')\n",
        "            if opcao2 == 'SIM':\n",
        "                break  # este break é do segundo laço\n",
        "        print('Você saiu do segundo laço.')\n",
        "print('Você saiu do primeiro laço')"
      ],
      "metadata": {
        "id": "DTW_xY-pkkn4"
      },
      "execution_count": null,
      "outputs": []
    }
  ],
  "metadata": {
    "colab": {
      "provenance": []
    },
    "kernelspec": {
      "display_name": "Python 3",
      "name": "python3"
    }
  },
  "nbformat": 4,
  "nbformat_minor": 0
}